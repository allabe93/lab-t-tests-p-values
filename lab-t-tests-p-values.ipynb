{
 "cells": [
  {
   "cell_type": "code",
   "execution_count": 1,
   "id": "ca82e33d",
   "metadata": {},
   "outputs": [],
   "source": [
    "import pandas as pd\n",
    "import math\n",
    "from scipy.stats import ttest_ind"
   ]
  },
  {
   "cell_type": "markdown",
   "id": "6d4f7d4c",
   "metadata": {},
   "source": [
    "# Exercise 1"
   ]
  },
  {
   "cell_type": "code",
   "execution_count": 2,
   "id": "0f0f4109",
   "metadata": {},
   "outputs": [
    {
     "data": {
      "text/html": [
       "<div>\n",
       "<style scoped>\n",
       "    .dataframe tbody tr th:only-of-type {\n",
       "        vertical-align: middle;\n",
       "    }\n",
       "\n",
       "    .dataframe tbody tr th {\n",
       "        vertical-align: top;\n",
       "    }\n",
       "\n",
       "    .dataframe thead th {\n",
       "        text-align: right;\n",
       "    }\n",
       "</style>\n",
       "<table border=\"1\" class=\"dataframe\">\n",
       "  <thead>\n",
       "    <tr style=\"text-align: right;\">\n",
       "      <th></th>\n",
       "      <th>new_machine</th>\n",
       "      <th>old_machine</th>\n",
       "    </tr>\n",
       "  </thead>\n",
       "  <tbody>\n",
       "    <tr>\n",
       "      <th>0</th>\n",
       "      <td>42.1</td>\n",
       "      <td>42.7</td>\n",
       "    </tr>\n",
       "    <tr>\n",
       "      <th>1</th>\n",
       "      <td>41.0</td>\n",
       "      <td>43.6</td>\n",
       "    </tr>\n",
       "    <tr>\n",
       "      <th>2</th>\n",
       "      <td>41.3</td>\n",
       "      <td>43.8</td>\n",
       "    </tr>\n",
       "    <tr>\n",
       "      <th>3</th>\n",
       "      <td>41.8</td>\n",
       "      <td>43.3</td>\n",
       "    </tr>\n",
       "    <tr>\n",
       "      <th>4</th>\n",
       "      <td>42.4</td>\n",
       "      <td>42.5</td>\n",
       "    </tr>\n",
       "    <tr>\n",
       "      <th>5</th>\n",
       "      <td>42.8</td>\n",
       "      <td>43.5</td>\n",
       "    </tr>\n",
       "    <tr>\n",
       "      <th>6</th>\n",
       "      <td>43.2</td>\n",
       "      <td>43.1</td>\n",
       "    </tr>\n",
       "    <tr>\n",
       "      <th>7</th>\n",
       "      <td>42.3</td>\n",
       "      <td>41.7</td>\n",
       "    </tr>\n",
       "    <tr>\n",
       "      <th>8</th>\n",
       "      <td>41.8</td>\n",
       "      <td>44.0</td>\n",
       "    </tr>\n",
       "    <tr>\n",
       "      <th>9</th>\n",
       "      <td>42.7</td>\n",
       "      <td>44.1</td>\n",
       "    </tr>\n",
       "  </tbody>\n",
       "</table>\n",
       "</div>"
      ],
      "text/plain": [
       "   new_machine  old_machine\n",
       "0         42.1         42.7\n",
       "1         41.0         43.6\n",
       "2         41.3         43.8\n",
       "3         41.8         43.3\n",
       "4         42.4         42.5\n",
       "5         42.8         43.5\n",
       "6         43.2         43.1\n",
       "7         42.3         41.7\n",
       "8         41.8         44.0\n",
       "9         42.7         44.1"
      ]
     },
     "execution_count": 2,
     "metadata": {},
     "output_type": "execute_result"
    }
   ],
   "source": [
    "data1 = pd.read_csv('files_for_lab/machine.txt', sep='\\t', header=0, names=['new_machine', 'old_machine'])\n",
    "data1.columns = [columns_name.lower() for columns_name in data1.columns]\n",
    "data1.columns = [columns_name.replace(' ', '_') for columns_name in data1.columns]\n",
    "data1"
   ]
  },
  {
   "cell_type": "code",
   "execution_count": 3,
   "id": "0c9a75c3",
   "metadata": {},
   "outputs": [
    {
     "name": "stdout",
     "output_type": "stream",
     "text": [
      "number of records:-> new machine: 10 / old machine: 10\n",
      "\n",
      "new machine packing time-> mean: 42.14 & standard deviation: 0.6834552736727638\n",
      "\n",
      "old machine packing time-> mean: 43.230000000000004 & standard deviation: 0.7498888806572157\n"
     ]
    }
   ],
   "source": [
    "# new_machine\n",
    "nm_samples = len(data1['new_machine'])\n",
    "nm_sample_mean = data1['new_machine'].mean()\n",
    "nm_sample_std = data1['new_machine'].std()\n",
    "\n",
    "# old_machine\n",
    "om_samples = len(data1['old_machine'])\n",
    "om_sample_mean = data1['old_machine'].mean()\n",
    "om_sample_std = data1['old_machine'].std()\n",
    "\n",
    "print('number of records:->', 'new machine:', nm_samples, '/', 'old machine:', om_samples)\n",
    "print()\n",
    "print('new machine packing time->', 'mean:', nm_sample_mean, '&', 'standard deviation:', nm_sample_std)\n",
    "print()\n",
    "print('old machine packing time->', 'mean:', om_sample_mean, '&', 'standard deviation:', om_sample_std)"
   ]
  },
  {
   "cell_type": "code",
   "execution_count": 4,
   "id": "e712dfd3",
   "metadata": {},
   "outputs": [
    {
     "name": "stdout",
     "output_type": "stream",
     "text": [
      "[42.1 41.  41.3 41.8 42.4 42.8 43.2 42.3 41.8 42.7]\n",
      "\n",
      "[42.7 43.6 43.8 43.3 42.5 43.5 43.1 41.7 44.  44.1]\n"
     ]
    }
   ],
   "source": [
    "new_machine = data1['new_machine'].to_numpy()\n",
    "old_machine = data1['old_machine'].to_numpy()\n",
    "\n",
    "print(new_machine)\n",
    "print()\n",
    "print(old_machine)"
   ]
  },
  {
   "cell_type": "code",
   "execution_count": 5,
   "id": "d2e7d42c",
   "metadata": {},
   "outputs": [
    {
     "data": {
      "text/plain": [
       "Ttest_indResult(statistic=-3.3972307061176026, pvalue=0.0032111425007745158)"
      ]
     },
     "execution_count": 5,
     "metadata": {},
     "output_type": "execute_result"
    }
   ],
   "source": [
    "ttest_ind(new_machine, old_machine)"
   ]
  },
  {
   "cell_type": "markdown",
   "id": "03699f7b",
   "metadata": {},
   "source": [
    "In this lab, the null hypothesis is that there is no significant difference between the mean packing times of the new and old machines, while the alternative hypothesis is that the mean packing time of the new machine is greater than the mean packing time of the old machine.\n",
    "\n",
    "### Conclusions \n",
    "\n",
    "Based on the t-test result, we can conclude that the p-value is less than the significance level (alpha) typically used in hypothesis testing, such as 0.05 or 0.01. In this case, the p-value is 0.003, which is less than 0.05, so we can reject the null hypothesis and conclude that there is a significant difference between the mean packing times of the new and old machines.\n",
    "\n",
    "The negative value of the t-statistic (-3.397) indicates that the mean packing time of the old machine is higher than the mean packing time of the new machine. Therefore, we can conclude that there is evidence that the new machine packs faster on average than the old machine."
   ]
  },
  {
   "cell_type": "markdown",
   "id": "0a7d0a91",
   "metadata": {},
   "source": [
    "# Exercise 2"
   ]
  },
  {
   "cell_type": "code",
   "execution_count": 6,
   "id": "00ba87ea",
   "metadata": {
    "scrolled": false
   },
   "outputs": [
    {
     "data": {
      "text/html": [
       "<div>\n",
       "<style scoped>\n",
       "    .dataframe tbody tr th:only-of-type {\n",
       "        vertical-align: middle;\n",
       "    }\n",
       "\n",
       "    .dataframe tbody tr th {\n",
       "        vertical-align: top;\n",
       "    }\n",
       "\n",
       "    .dataframe thead th {\n",
       "        text-align: right;\n",
       "    }\n",
       "</style>\n",
       "<table border=\"1\" class=\"dataframe\">\n",
       "  <thead>\n",
       "    <tr style=\"text-align: right;\">\n",
       "      <th></th>\n",
       "      <th>sophomores</th>\n",
       "      <th>juniors</th>\n",
       "    </tr>\n",
       "  </thead>\n",
       "  <tbody>\n",
       "    <tr>\n",
       "      <th>0</th>\n",
       "      <td>3.04</td>\n",
       "      <td>2.56</td>\n",
       "    </tr>\n",
       "    <tr>\n",
       "      <th>1</th>\n",
       "      <td>1.71</td>\n",
       "      <td>2.77</td>\n",
       "    </tr>\n",
       "    <tr>\n",
       "      <th>2</th>\n",
       "      <td>3.30</td>\n",
       "      <td>2.70</td>\n",
       "    </tr>\n",
       "    <tr>\n",
       "      <th>3</th>\n",
       "      <td>2.88</td>\n",
       "      <td>3.00</td>\n",
       "    </tr>\n",
       "    <tr>\n",
       "      <th>4</th>\n",
       "      <td>2.11</td>\n",
       "      <td>2.98</td>\n",
       "    </tr>\n",
       "    <tr>\n",
       "      <th>5</th>\n",
       "      <td>2.60</td>\n",
       "      <td>3.47</td>\n",
       "    </tr>\n",
       "    <tr>\n",
       "      <th>6</th>\n",
       "      <td>2.92</td>\n",
       "      <td>3.26</td>\n",
       "    </tr>\n",
       "    <tr>\n",
       "      <th>7</th>\n",
       "      <td>3.60</td>\n",
       "      <td>3.20</td>\n",
       "    </tr>\n",
       "    <tr>\n",
       "      <th>8</th>\n",
       "      <td>2.28</td>\n",
       "      <td>3.19</td>\n",
       "    </tr>\n",
       "    <tr>\n",
       "      <th>9</th>\n",
       "      <td>2.82</td>\n",
       "      <td>2.65</td>\n",
       "    </tr>\n",
       "    <tr>\n",
       "      <th>10</th>\n",
       "      <td>3.03</td>\n",
       "      <td>3.00</td>\n",
       "    </tr>\n",
       "    <tr>\n",
       "      <th>11</th>\n",
       "      <td>3.13</td>\n",
       "      <td>3.39</td>\n",
       "    </tr>\n",
       "    <tr>\n",
       "      <th>12</th>\n",
       "      <td>2.86</td>\n",
       "      <td>2.58</td>\n",
       "    </tr>\n",
       "    <tr>\n",
       "      <th>13</th>\n",
       "      <td>3.49</td>\n",
       "      <td>NaN</td>\n",
       "    </tr>\n",
       "    <tr>\n",
       "      <th>14</th>\n",
       "      <td>3.11</td>\n",
       "      <td>NaN</td>\n",
       "    </tr>\n",
       "    <tr>\n",
       "      <th>15</th>\n",
       "      <td>2.13</td>\n",
       "      <td>NaN</td>\n",
       "    </tr>\n",
       "    <tr>\n",
       "      <th>16</th>\n",
       "      <td>3.27</td>\n",
       "      <td>NaN</td>\n",
       "    </tr>\n",
       "  </tbody>\n",
       "</table>\n",
       "</div>"
      ],
      "text/plain": [
       "    sophomores  juniors\n",
       "0         3.04     2.56\n",
       "1         1.71     2.77\n",
       "2         3.30     2.70\n",
       "3         2.88     3.00\n",
       "4         2.11     2.98\n",
       "5         2.60     3.47\n",
       "6         2.92     3.26\n",
       "7         3.60     3.20\n",
       "8         2.28     3.19\n",
       "9         2.82     2.65\n",
       "10        3.03     3.00\n",
       "11        3.13     3.39\n",
       "12        2.86     2.58\n",
       "13        3.49      NaN\n",
       "14        3.11      NaN\n",
       "15        2.13      NaN\n",
       "16        3.27      NaN"
      ]
     },
     "execution_count": 6,
     "metadata": {},
     "output_type": "execute_result"
    }
   ],
   "source": [
    "data2 = pd.read_csv('files_for_lab/student_gpa.txt', sep='\\t', header=0, names=['Sophomores', 'Juniors'])\n",
    "data2.columns = [columns_name.lower() for columns_name in data2.columns]\n",
    "data2.columns = [columns_name.replace(' ', '_') for columns_name in data2.columns]\n",
    "data2"
   ]
  },
  {
   "cell_type": "code",
   "execution_count": 7,
   "id": "120dfaa0",
   "metadata": {},
   "outputs": [
    {
     "name": "stdout",
     "output_type": "stream",
     "text": [
      "number of records:-> sophomores: 17 / old machine: 17\n",
      "\n",
      "sophomores scores-> mean: 2.8400000000000003 & standard deviation: 0.5198317035349037\n",
      "\n",
      "juniors scores-> mean: 2.980769230769231 & standard deviation: 0.3092588327615327\n"
     ]
    }
   ],
   "source": [
    "# sophomores\n",
    "nm_samples_s = len(data2['sophomores'])\n",
    "nm_sample_mean_s = data2['sophomores'].mean()\n",
    "nm_sample_std_s = data2['sophomores'].std()\n",
    "\n",
    "# juniors\n",
    "om_samples_j = len(data2['juniors'])\n",
    "om_sample_mean_j = data2['juniors'].mean()\n",
    "om_sample_std_j = data2['juniors'].std()\n",
    "\n",
    "print('number of records:->', 'sophomores:', nm_samples_s, '/', 'old machine:', om_samples_j)\n",
    "print()\n",
    "print('sophomores scores->', 'mean:', nm_sample_mean_s, '&', 'standard deviation:', nm_sample_std_s)\n",
    "print()\n",
    "print('juniors scores->', 'mean:', om_sample_mean_j, '&', 'standard deviation:', om_sample_std_j)"
   ]
  },
  {
   "cell_type": "code",
   "execution_count": 8,
   "id": "ec34de1a",
   "metadata": {},
   "outputs": [
    {
     "name": "stdout",
     "output_type": "stream",
     "text": [
      "[3.04 1.71 3.3  2.88 2.11 2.6  2.92 3.6  2.28 2.82 3.03 3.13 2.86 3.49\n",
      " 3.11 2.13 3.27]\n",
      "\n",
      "[2.56 2.77 2.7  3.   2.98 3.47 3.26 3.2  3.19 2.65 3.   3.39 2.58]\n"
     ]
    }
   ],
   "source": [
    "import numpy as np\n",
    "\n",
    "sophomores = data2['sophomores'].to_numpy()\n",
    "juniors = data2['juniors'].to_numpy()\n",
    "juniors = juniors[~np.isnan(juniors)]\n",
    "\n",
    "print(sophomores)\n",
    "print()\n",
    "print(juniors)"
   ]
  },
  {
   "cell_type": "code",
   "execution_count": 9,
   "id": "01038629",
   "metadata": {},
   "outputs": [
    {
     "data": {
      "text/plain": [
       "Ttest_indResult(statistic=-0.9231495630900278, pvalue=0.3642180675348571)"
      ]
     },
     "execution_count": 9,
     "metadata": {},
     "output_type": "execute_result"
    }
   ],
   "source": [
    "ttest_ind(sophomores, juniors, equal_var=False) # equal_var=False to specify that the variances are not equal since the lab states \"In this case we can't assume that the population variances are equal\""
   ]
  },
  {
   "cell_type": "markdown",
   "id": "43b28c70",
   "metadata": {},
   "source": [
    "The null hypothesis for this test is that there is no significant difference in the mean GPAs of sophomores and juniors at the university. The alternative hypothesis is that they are different.\n",
    "\n",
    "### Conclusions\n",
    "\n",
    "Since the p-value is not less than the significance level of 0.05, we do not have sufficient evidence to reject the null hypothesis that the mean GPAs of sophomores and juniors are equal (not significantly different). We cannot conclude that the GPAs from one group and the other are somewhat equal, but rather that there is insufficient evidence to suggest they differ."
   ]
  },
  {
   "cell_type": "code",
   "execution_count": null,
   "id": "6afce35d",
   "metadata": {},
   "outputs": [],
   "source": []
  }
 ],
 "metadata": {
  "kernelspec": {
   "display_name": "Python 3 (ipykernel)",
   "language": "python",
   "name": "python3"
  },
  "language_info": {
   "codemirror_mode": {
    "name": "ipython",
    "version": 3
   },
   "file_extension": ".py",
   "mimetype": "text/x-python",
   "name": "python",
   "nbconvert_exporter": "python",
   "pygments_lexer": "ipython3",
   "version": "3.9.12"
  }
 },
 "nbformat": 4,
 "nbformat_minor": 5
}
